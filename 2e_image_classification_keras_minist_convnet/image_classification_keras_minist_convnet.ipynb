{
 "cells": [
  {
   "cell_type": "markdown",
   "metadata": {},
   "source": [
    "# Build a simple ML pipeline for image classification\n",
    "\n",
    "**Requirements** - In order to benefit from this tutorial, you will need:\n",
    "- A basic understanding of Machine Learning\n",
    "- An Azure account with an active subscription. [Create an account for free](https://azure.microsoft.com/free/?WT.mc_id=A261C142F)\n",
    "- An Azure ML workspace. [Check this notebook for creating a workspace](/sdk/resources/workspace/workspace.ipynb) \n",
    "- A Compute Cluster. [Check this notebook to create a compute cluster](/sdk/resources/compute/compute.ipynb)\n",
    "- A python environment\n",
    "- Installed Azure Machine Learning Python SDK v2 - [install instructions](/sdk/README.md#getting-started)\n",
    "\n",
    "**Learning Objectives** - By the end of this tutorial, you should be able to:\n",
    "- Connect to your AML workspace from the Python SDK\n",
    "- Create `Pipeline` with components\n",
    "\n",
    "**Motivations** -This tutorial shows how to train a simple deep neural network using the [Fashion MNIST dataset and Keras on Azure Machine Learning. Fashion-MNIST is a dataset of Zalando's article images—consisting of a training set of 60,000 examples and a test set of 10,000 examples. Each example is a 28x28 grayscale image, associated with a label from 10 classes.\n"
   ]
  },
  {
   "cell_type": "markdown",
   "metadata": {},
   "source": [
    "# 1. Connect to Azure Machine Learning Workspace\n",
    "\n",
    "The [workspace](https://docs.microsoft.com/en-us/azure/machine-learning/concept-workspace) is the top-level resource for Azure Machine Learning, providing a centralized place to work with all the artifacts you create when you use Azure Machine Learning. In this section we will connect to the workspace in which the job will be run.\n",
    "\n",
    "## 1.1. Import the required libraries"
   ]
  },
  {
   "cell_type": "code",
   "execution_count": 1,
   "metadata": {},
   "outputs": [],
   "source": [
    "#import required libraries\n",
    "from azure.ml import MLClient, dsl\n",
    "from azure.ml.entities import load_component"
   ]
  },
  {
   "cell_type": "markdown",
   "metadata": {},
   "source": [
    "## 1.2. Configure credential\n",
    "\n",
    "We are using `DefaultAzureCredential` to get access to workspace. When an access token is needed, it requests one using multiple identities(`EnvironmentCredential, ManagedIdentityCredential, SharedTokenCacheCredential, VisualStudioCodeCredential, AzureCliCredential, AzurePowerShellCredential`) in turn, stopping when one provides a token.\n",
    "Reference [here](https://docs.microsoft.com/en-us/python/api/azure-identity/azure.identity.defaultazurecredential?view=azure-python) for more information.\n",
    "\n",
    "`DefaultAzureCredential` should be capable of handling most Azure SDK authentication scenarios. \n",
    "Reference [here](https://docs.microsoft.com/en-us/python/api/azure-identity/azure.identity?view=azure-python) for all available credentials if it does not work for you.  "
   ]
  },
  {
   "cell_type": "code",
   "execution_count": 2,
   "metadata": {},
   "outputs": [],
   "source": [
    "from azure.identity import DefaultAzureCredential\n",
    "\n",
    "try:\n",
    "    credential = DefaultAzureCredential(exclude_visual_studio_code_credential=True)\n",
    "    # Check if given credential can get token successfully.\n",
    "    credential.get_token('https://management.azure.com/.default')\n",
    "except Exception as ex:\n",
    "    # If exception happens when retrieve token, try exclude the failed credential like this then try again:\n",
    "    # Exclude VSCode credential:\n",
    "    # credential = DefaultAzureCredential(exclude_visual_studio_code_credential=True)\n",
    "    raise Exception(\"Failed to retrieve a token from the included credentials due to the following exception, try to add `exclude_xxx_credential=True` to `DefaultAzureCredential` and try again.\") from ex"
   ]
  },
  {
   "cell_type": "markdown",
   "metadata": {},
   "source": [
    "## 1.3. Configure workspace details and get a handle to the workspace\n",
    "\n",
    "To connect to a workspace, we need identifier parameters - a subscription, resource group and workspace name. We will use these details in the `MLClient` from `azure.ml` to get a handle to the required Azure Machine Learning workspace. `MLClient.from_config()` reads the file config.json and loads the details into an object named ml_client, and it expects the workspace configuration to be saved in the current directory or its parent."
   ]
  },
  {
   "cell_type": "code",
   "execution_count": 3,
   "metadata": {},
   "outputs": [
    {
     "name": "stderr",
     "output_type": "stream",
     "text": [
      "Found the config file in: config.json\n"
     ]
    },
    {
     "name": "stdout",
     "output_type": "stream",
     "text": [
      "MLClient(credential=<azure.identity._credentials.default.DefaultAzureCredential object at 0x0000022983D5A748>,\n",
      "         subscription_id=d128f140-94e6-4175-87a7-954b9d27db16,\n",
      "         resource_group_name=ModuleX-rg,\n",
      "         workspace_name=shiyuws-canary)\n"
     ]
    }
   ],
   "source": [
    "config_path = \"./config.json\"\n",
    "ml_client = MLClient.from_config(credential=credential, path=config_path)\n",
    "print(ml_client)"
   ]
  },
  {
   "cell_type": "markdown",
   "metadata": {},
   "source": [
    "## 1.4. Retrieve or create an Azure Machine Learning compute target"
   ]
  },
  {
   "cell_type": "code",
   "execution_count": 4,
   "metadata": {},
   "outputs": [],
   "source": [
    "from azure.ml.entities import AmlCompute\n",
    "\n",
    "# specify aml compute name.\n",
    "gpu_compute_target = 'gpu-cluster'\n",
    "cpu_compute_target = 'test-ci'\n",
    "\n",
    "try:\n",
    "    ml_client.compute.get(cpu_compute_target)\n",
    "except Exception:\n",
    "    print('Creating a new cpu compute target...')\n",
    "    compute = AmlCompute(name=cpu_compute_target, size=\"STANDARD_D2_V2\", min_instances=0, max_instances=4)\n",
    "    ml_client.compute.begin_create_or_update(compute)\n",
    "\n",
    "try:\n",
    "    ml_client.compute.get(gpu_compute_target)\n",
    "except Exception:\n",
    "    print('Creating a new gpu compute target...')\n",
    "    compute = AmlCompute(name=gpu_compute_target, size=\"STANDARD_NC6\", min_instances=0, max_instances=4)\n",
    "    ml_client.compute.begin_create_or_update(compute)"
   ]
  },
  {
   "cell_type": "markdown",
   "metadata": {},
   "source": [
    "## 1.5. Prepare Job Input\n",
    "By defining `JobInput`, you create a reference to the data source location. The data remains in its existing location, so no extra storage cost is incurred."
   ]
  },
  {
   "cell_type": "code",
   "execution_count": 5,
   "metadata": {},
   "outputs": [],
   "source": [
    "from azure.ml.entities import JobInput\n",
    "\n",
    "fashion_ds = JobInput(path=\"wasbs://demo@data4mldemo6150520719.blob.core.windows.net/mnist-fashion/\")"
   ]
  },
  {
   "cell_type": "code",
   "execution_count": 6,
   "metadata": {},
   "outputs": [
    {
     "data": {
      "text/plain": [
       "{'type': 'uri_folder', 'path': 'wasbs://demo@data4mldemo6150520719.blob.core.windows.net/mnist-fashion/', 'mode': 'ro_mount'}"
      ]
     },
     "execution_count": 6,
     "metadata": {},
     "output_type": "execute_result"
    }
   ],
   "source": [
    "fashion_ds"
   ]
  },
  {
   "cell_type": "markdown",
   "metadata": {},
   "source": [
    "# 2. Define and load command component\n",
    "In this section, we will define and load component to build pipeline in two ways:\n",
    "1. Using python function\n",
    "1. Using yaml\n"
   ]
  },
  {
   "cell_type": "markdown",
   "metadata": {},
   "source": [
    "## 2.1 Load components defined with python function\n",
    "We define `Prep Data` component and `Train Image Classification Keras` component using dsl.command_component respectively in [./prep/prep_dsl_component.py](./prep/prep_dsl_component.py) and [./train/train_dsl_component.py](./train/train_dsl_component.py).\n",
    "\n",
    "Use following code to import component."
   ]
  },
  {
   "cell_type": "code",
   "execution_count": 7,
   "metadata": {},
   "outputs": [
    {
     "name": "stderr",
     "output_type": "stream",
     "text": [
      "Warning: the provided asset name 'CliV2AnonymousEnvironment' will not be used for anonymous registration\n",
      "Warning: the provided asset name 'CliV2AnonymousEnvironment' will not be used for anonymous registration\n",
      "Warning: the provided asset name 'CliV2AnonymousEnvironment' will not be used for anonymous registration\n",
      "Warning: the provided asset name 'CliV2AnonymousEnvironment' will not be used for anonymous registration\n"
     ]
    }
   ],
   "source": [
    "%load_ext autoreload\n",
    "%autoreload 2\n",
    "\n",
    "# if you modify the componetn source code, use following code to reload it\n",
    "# otherwise notebook has cache and may not load the latest update\n",
    "import importlib, prep.prep_dsl_component, train.train_dsl_component\n",
    "importlib.reload(prep.prep_dsl_component)\n",
    "importlib.reload(train.train_dsl_component)\n",
    "\n",
    "# load component function from dsl component python file\n",
    "from prep.prep_dsl_component import prep\n",
    "from train.train_dsl_component import keras_train\n",
    "\n",
    "# print hint of components\n",
    "# help(prep)\n",
    "# help(keras_train)\n"
   ]
  },
  {
   "cell_type": "markdown",
   "metadata": {},
   "source": [
    "## 2.2 Load component defined with python function\n",
    "We define `Score Image Classification Keras` in [yaml](./score/score.yaml).\n",
    "\n",
    "Use following code to load component from yaml."
   ]
  },
  {
   "cell_type": "code",
   "execution_count": 8,
   "metadata": {},
   "outputs": [],
   "source": [
    "# load component function from yaml\n",
    "keras_score = load_component(yaml_file='./score/score.yaml')"
   ]
  },
  {
   "cell_type": "markdown",
   "metadata": {},
   "source": [
    "# 3. Build pipeline\n",
    "\n",
    "We define a pipeline containing 3 nodes:\n",
    "- `prepare_data_node` will load the image and labels from Fashion MNIST dataset into mnist_train.csv and mnist_test.csv. \n",
    "- `train_node` will train a CNN model with Keras using training data.\n",
    "- `score_node` will score the model using test data."
   ]
  },
  {
   "cell_type": "code",
   "execution_count": 9,
   "metadata": {},
   "outputs": [],
   "source": [
    "# define a pipeline containing 3 nodes: Prepare data node, train node, and score node\n",
    "@dsl.pipeline(\n",
    "    description='E2E image classification pipeline with keras',\n",
    "    default_compute=cpu_compute_target,\n",
    ")\n",
    "def image_classification_keras_minist_convnet():\n",
    "\n",
    "    prepare_data_node = prep(input_data=fashion_ds)\n",
    "\n",
    "    train_node = keras_train(input_data=prepare_data_node.outputs.training_data)\n",
    "    train_node.compute = gpu_compute_target\n",
    "\n",
    "    score_node = keras_score(input_data=prepare_data_node.outputs.test_data, input_model=train_node.outputs.output_model)\n",
    "\n",
    "# create a pipeline\n",
    "pipeline = image_classification_keras_minist_convnet()"
   ]
  },
  {
   "cell_type": "code",
   "execution_count": 10,
   "metadata": {},
   "outputs": [
    {
     "name": "stdout",
     "output_type": "stream",
     "text": [
      "name: cyan_wire_wbsrw7qz2p\n",
      "display_name: image_classification_keras_minist_convnet\n",
      "description: E2E image classification pipeline with keras\n",
      "type: pipeline\n",
      "inputs: {}\n",
      "outputs: {}\n",
      "tags: {}\n",
      "compute: azureml:test-ci\n",
      "settings: {}\n",
      "properties: {}\n",
      "jobs:\n",
      "  prepare_data_node:\n",
      "    $schema: '{}'\n",
      "    type: command\n",
      "    inputs:\n",
      "      input_data:\n",
      "        mode: ro_mount\n",
      "        type: uri_folder\n",
      "        path: azureml:wasbs://demo@data4mldemo6150520719.blob.core.windows.net/mnist-fashion/\n",
      "    outputs: {}\n",
      "    command: python -m azure.ml.dsl.executor --file prep_dsl_component.py --name prep_data\n",
      "      --params --input_data ${{inputs.input_data}} --training_data ${{outputs.training_data}}\n",
      "      --test_data ${{outputs.test_data}}\n",
      "    code: d:/Github/test/2e_image_classification_keras_minist_convnet/prep\n",
      "    component:\n",
      "      name: prep_data\n",
      "      version: '1'\n",
      "      display_name: Prep Data\n",
      "      description: Convert data to CSV file, and split to training and test data\n",
      "      type: command\n",
      "      inputs:\n",
      "        input_data:\n",
      "          type: uri_folder\n",
      "      outputs:\n",
      "        training_data:\n",
      "          type: uri_folder\n",
      "        test_data:\n",
      "          type: uri_folder\n",
      "      command: python -m azure.ml.dsl.executor --file prep_dsl_component.py --name\n",
      "        prep_data --params --input_data ${{inputs.input_data}} --training_data ${{outputs.training_data}}\n",
      "        --test_data ${{outputs.test_data}}\n",
      "      environment:\n",
      "        name: CliV2AnonymousEnvironment\n",
      "        tags: {}\n",
      "        version: 0fc5c9eaf3b27f7547c25ed73b15ddd0\n",
      "        image: mcr.microsoft.com/azureml/openmpi3.1.2-ubuntu18.04\n",
      "        conda_file:\n",
      "          name: imagekeras_train_conda_env\n",
      "          channels:\n",
      "          - defaults\n",
      "          dependencies:\n",
      "          - python=3.7.11\n",
      "          - pip=20.0\n",
      "          - pip:\n",
      "            - --extra-index-url=https://azuremlsdktestpypi.azureedge.net/test-sdk-cli-v2\n",
      "            - azure-ml==0.0.59355733\n",
      "            - azureml-mlflow\n",
      "            - tensorflow==2.7.0\n",
      "            - numpy==1.21.4\n",
      "            - scikit-learn==1.0.1\n",
      "            - pandas==1.3.4\n",
      "            - matplotlib==3.2.2\n",
      "      code: azureml:d:/Github/test/2e_image_classification_keras_minist_convnet/prep\n",
      "      tags:\n",
      "        codegenBy: dsl.component\n",
      "      is_deterministic: true\n",
      "    environment_variables: {}\n",
      "  train_node:\n",
      "    $schema: '{}'\n",
      "    type: command\n",
      "    inputs:\n",
      "      input_data: ${{parent.jobs.prepare_data_node.outputs.training_data}}\n",
      "    outputs: {}\n",
      "    command: python -m azure.ml.dsl.executor --file train_dsl_component.py --name\n",
      "      train_image_classification_keras --params --input_data ${{inputs.input_data}}\n",
      "      [--epochs ${{inputs.epochs}}] --output_model ${{outputs.output_model}}\n",
      "    code: d:/Github/test/2e_image_classification_keras_minist_convnet/train\n",
      "    component:\n",
      "      name: train_image_classification_keras\n",
      "      version: '1'\n",
      "      display_name: Train Image Classification Keras\n",
      "      description: train image classification with keras\n",
      "      type: command\n",
      "      inputs:\n",
      "        input_data:\n",
      "          type: uri_folder\n",
      "        epochs:\n",
      "          type: integer\n",
      "          optional: true\n",
      "          default: '10'\n",
      "      outputs:\n",
      "        output_model:\n",
      "          type: uri_folder\n",
      "      command: python -m azure.ml.dsl.executor --file train_dsl_component.py --name\n",
      "        train_image_classification_keras --params --input_data ${{inputs.input_data}}\n",
      "        [--epochs ${{inputs.epochs}}] --output_model ${{outputs.output_model}}\n",
      "      environment:\n",
      "        name: CliV2AnonymousEnvironment\n",
      "        tags: {}\n",
      "        version: 0fc5c9eaf3b27f7547c25ed73b15ddd0\n",
      "        image: mcr.microsoft.com/azureml/openmpi3.1.2-ubuntu18.04\n",
      "        conda_file:\n",
      "          name: imagekeras_train_conda_env\n",
      "          channels:\n",
      "          - defaults\n",
      "          dependencies:\n",
      "          - python=3.7.11\n",
      "          - pip=20.0\n",
      "          - pip:\n",
      "            - --extra-index-url=https://azuremlsdktestpypi.azureedge.net/test-sdk-cli-v2\n",
      "            - azure-ml==0.0.59355733\n",
      "            - azureml-mlflow\n",
      "            - tensorflow==2.7.0\n",
      "            - numpy==1.21.4\n",
      "            - scikit-learn==1.0.1\n",
      "            - pandas==1.3.4\n",
      "            - matplotlib==3.2.2\n",
      "      code: azureml:d:/Github/test/2e_image_classification_keras_minist_convnet/train\n",
      "      tags:\n",
      "        codegenBy: dsl.component\n",
      "      is_deterministic: true\n",
      "    environment_variables: {}\n",
      "    compute: azureml:gpu-cluster\n",
      "  score_node:\n",
      "    $schema: '{}'\n",
      "    type: command\n",
      "    inputs:\n",
      "      input_data: ${{parent.jobs.prepare_data_node.outputs.test_data}}\n",
      "      input_model: ${{parent.jobs.train_node.outputs.output_model}}\n",
      "    outputs: {}\n",
      "    command: python score.py --input_data ${{inputs.input_data}} --input_model ${{inputs.input_model}}\n",
      "      --output_result ${{outputs.output_result}}\n",
      "    code: ./\n",
      "    component:\n",
      "      $schema: https://azuremlschemas.azureedge.net/latest/commandComponent.schema.json\n",
      "      name: score_image_classification_keras\n",
      "      display_name: Score Image Classification Keras\n",
      "      type: command\n",
      "      inputs:\n",
      "        input_data:\n",
      "          type: uri_folder\n",
      "        input_model:\n",
      "          type: uri_folder\n",
      "      outputs:\n",
      "        output_result:\n",
      "          type: uri_folder\n",
      "      command: python score.py --input_data ${{inputs.input_data}} --input_model ${{inputs.input_model}}\n",
      "        --output_result ${{outputs.output_result}}\n",
      "      environment:\n",
      "        name: CliV2AnonymousEnvironment\n",
      "        tags: {}\n",
      "        version: 0fc5c9eaf3b27f7547c25ed73b15ddd0\n",
      "        image: mcr.microsoft.com/azureml/openmpi3.1.2-ubuntu18.04\n",
      "        conda_file:\n",
      "          name: imagekeras_train_conda_env\n",
      "          channels:\n",
      "          - defaults\n",
      "          dependencies:\n",
      "          - python=3.7.11\n",
      "          - pip=20.0\n",
      "          - pip:\n",
      "            - --extra-index-url=https://azuremlsdktestpypi.azureedge.net/test-sdk-cli-v2\n",
      "            - azure-ml==0.0.59355733\n",
      "            - azureml-mlflow\n",
      "            - tensorflow==2.7.0\n",
      "            - numpy==1.21.4\n",
      "            - scikit-learn==1.0.1\n",
      "            - pandas==1.3.4\n",
      "            - matplotlib==3.2.2\n",
      "      code: azureml:./\n",
      "      tags: {}\n",
      "      is_deterministic: true\n",
      "    environment_variables: {}\n",
      "experiment_name: 2e_image_classification_keras_minist_convnet\n",
      "\n"
     ]
    }
   ],
   "source": [
    "print(pipeline)"
   ]
  },
  {
   "cell_type": "markdown",
   "metadata": {},
   "source": [
    "# 4. Submit pipeline job"
   ]
  },
  {
   "cell_type": "code",
   "execution_count": 11,
   "metadata": {},
   "outputs": [
    {
     "name": "stderr",
     "output_type": "stream",
     "text": [
      "Warning: the provided asset name 'CliV2AnonymousEnvironment' will not be used for anonymous registration\n",
      "Warning: the provided asset name 'CliV2AnonymousEnvironment' will not be used for anonymous registration\n",
      "Warning: the provided asset name 'CliV2AnonymousEnvironment' will not be used for anonymous registration\n"
     ]
    },
    {
     "data": {
      "text/html": [
       "<table style=\"width:100%\"><tr><th>Experiment</th><th>Name</th><th>Type</th><th>Status</th><th>Details Page</th></tr><tr><td>pipeline_samples</td><td>cyan_wire_wbsrw7qz2p</td><td>pipeline</td><td>Preparing</td><td><a href=\"https://ml.azure.com/runs/cyan_wire_wbsrw7qz2p?wsid=/subscriptions/d128f140-94e6-4175-87a7-954b9d27db16/resourcegroups/ModuleX-rg/workspaces/shiyuws-canary&amp;tid=72f988bf-86f1-41af-91ab-2d7cd011db47\" target=\"_blank\" rel=\"noopener\">Link to Azure Machine Learning studio</a></td></tr></table>"
      ],
      "text/plain": [
       "PipelineJob({'inputs': {}, 'outputs': {}, 'component': _PipelineComponent({'components': {}, 'auto_increment_version': False, 'is_anonymous': True, 'name': 'b0a95217-9ce3-424c-9d4f-814dc6dd0729', 'description': None, 'tags': {}, 'properties': {}, 'id': None, 'base_path': None, 'creation_context': None, 'serialize': <msrest.serialization.Serializer object at 0x0000022983E8DCC8>, 'version': '1', 'latest_version': None, 'schema': None, 'type': 'pipeline_component', 'display_name': None, 'is_deterministic': True, 'inputs': {}, 'outputs': {}, 'yaml_str': None, 'other_parameter': {}, 'func': <function [component] None at 0x00000229850F03A8>}), 'display_name': 'cyan_wire_wbsrw7qz2p', 'type': 'pipeline', 'status': 'Preparing', 'log_files': None, 'name': 'cyan_wire_wbsrw7qz2p', 'description': None, 'tags': {}, 'properties': {'mlflow.source.git.repoURL': 'https://github.com/likebupt/test.git', 'mlflow.source.git.branch': 'main', 'mlflow.source.git.commit': '5c83841a4320172ba3f368325f3b1d4e487a194b', 'azureml.git.dirty': 'True', 'azureml.runsource': 'azureml.PipelineRun', 'runSource': 'SDKv2', 'runType': 'HTTP', 'azureml.parameters': '{}', 'azureml.continue_on_step_failure': 'False', 'azureml.pipelineComponent': 'pipelinerun'}, 'id': '/subscriptions/d128f140-94e6-4175-87a7-954b9d27db16/resourceGroups/ModuleX-rg/providers/Microsoft.MachineLearningServices/workspaces/shiyuws-canary/jobs/cyan_wire_wbsrw7qz2p', 'base_path': './', 'creation_context': <azure.ml._restclient.v2022_02_01_preview.models._models_py3.SystemData object at 0x00000229850E7A08>, 'serialize': <msrest.serialization.Serializer object at 0x00000229851C5D08>, 'experiment_name': 'pipeline_samples', 'compute': 'test-ci', 'services': {'Tracking': <azure.ml._restclient.v2022_02_01_preview.models._models_py3.JobService object at 0x00000229850E7908>, 'Studio': <azure.ml._restclient.v2022_02_01_preview.models._models_py3.JobService object at 0x00000229850E7448>}, 'jobs': {'prepare_data_node': {'code': {}, 'command': {}}, 'train_node': {'code': {}, 'command': {}}, 'score_node': {'code': {}, 'command': {}}}, 'settings': <azure.ml.entities._job.pipeline.pipeline_job_settings.PipelineJobSettings object at 0x0000022983E8DF88>, 'identity': None, 'default_code': None, 'default_environment': None})"
      ]
     },
     "execution_count": 11,
     "metadata": {},
     "output_type": "execute_result"
    }
   ],
   "source": [
    "pipeline_job = ml_client.jobs.create_or_update(pipeline, experiment_name='pipeline_samples')\n",
    "pipeline_job"
   ]
  },
  {
   "cell_type": "code",
   "execution_count": null,
   "metadata": {},
   "outputs": [],
   "source": [
    "# wait until the job completes\n",
    "ml_client.jobs.stream(pipeline_job.name)"
   ]
  },
  {
   "cell_type": "markdown",
   "metadata": {},
   "source": [
    "# 5. (Optional) Register your component to workspace\n",
    "\n",
    "If you want to share and reuse your component within workspace, you can also register it after you are confident to its performance.\n",
    "\n",
    "Use following code to register, and load a registered component from your workspace. After loading the registered component, you can use it to build pipeline in the same way in the previous section."
   ]
  },
  {
   "cell_type": "code",
   "execution_count": 13,
   "metadata": {},
   "outputs": [
    {
     "name": "stdout",
     "output_type": "stream",
     "text": [
      "{'additional_properties': {}, 'id': '/subscriptions/d128f140-94e6-4175-87a7-954b9d27db16/resourceGroups/ModuleX-rg/providers/Microsoft.MachineLearningServices/workspaces/shiyuws-canary/components/prep_data', 'name': 'prep_data', 'type': 'Microsoft.MachineLearningServices/workspaces/components', 'system_data': <azure.ml._restclient.v2022_02_01_preview.models._models_py3.SystemData object at 0x0000022985120988>, 'properties': <azure.ml._restclient.v2022_02_01_preview.models._models_py3.ComponentContainerDetails object at 0x000002298513C548>}\n",
      "{'additional_properties': {}, 'id': '/subscriptions/d128f140-94e6-4175-87a7-954b9d27db16/resourceGroups/ModuleX-rg/providers/Microsoft.MachineLearningServices/workspaces/shiyuws-canary/components/eval_model', 'name': 'eval_model', 'type': 'Microsoft.MachineLearningServices/workspaces/components', 'system_data': <azure.ml._restclient.v2022_02_01_preview.models._models_py3.SystemData object at 0x000002298513C5C8>, 'properties': <azure.ml._restclient.v2022_02_01_preview.models._models_py3.ComponentContainerDetails object at 0x000002298513C948>}\n",
      "{'additional_properties': {}, 'id': '/subscriptions/d128f140-94e6-4175-87a7-954b9d27db16/resourceGroups/ModuleX-rg/providers/Microsoft.MachineLearningServices/workspaces/shiyuws-canary/components/score_data', 'name': 'score_data', 'type': 'Microsoft.MachineLearningServices/workspaces/components', 'system_data': <azure.ml._restclient.v2022_02_01_preview.models._models_py3.SystemData object at 0x000002298513C908>, 'properties': <azure.ml._restclient.v2022_02_01_preview.models._models_py3.ComponentContainerDetails object at 0x000002298513CA08>}\n",
      "{'additional_properties': {}, 'id': '/subscriptions/d128f140-94e6-4175-87a7-954b9d27db16/resourceGroups/ModuleX-rg/providers/Microsoft.MachineLearningServices/workspaces/shiyuws-canary/components/train_model', 'name': 'train_model', 'type': 'Microsoft.MachineLearningServices/workspaces/components', 'system_data': <azure.ml._restclient.v2022_02_01_preview.models._models_py3.SystemData object at 0x000002298513C648>, 'properties': <azure.ml._restclient.v2022_02_01_preview.models._models_py3.ComponentContainerDetails object at 0x000002298513C808>}\n",
      "{'additional_properties': {}, 'id': '/subscriptions/d128f140-94e6-4175-87a7-954b9d27db16/resourceGroups/ModuleX-rg/providers/Microsoft.MachineLearningServices/workspaces/shiyuws-canary/components/Score', 'name': 'Score', 'type': 'Microsoft.MachineLearningServices/workspaces/components', 'system_data': <azure.ml._restclient.v2022_02_01_preview.models._models_py3.SystemData object at 0x000002298513C708>, 'properties': <azure.ml._restclient.v2022_02_01_preview.models._models_py3.ComponentContainerDetails object at 0x000002298513C2C8>}\n",
      "{'additional_properties': {}, 'id': '/subscriptions/d128f140-94e6-4175-87a7-954b9d27db16/resourceGroups/ModuleX-rg/providers/Microsoft.MachineLearningServices/workspaces/shiyuws-canary/components/ComponentForSourceDirectory', 'name': 'ComponentForSourceDirectory', 'type': 'Microsoft.MachineLearningServices/workspaces/components', 'system_data': <azure.ml._restclient.v2022_02_01_preview.models._models_py3.SystemData object at 0x000002298513C3C8>, 'properties': <azure.ml._restclient.v2022_02_01_preview.models._models_py3.ComponentContainerDetails object at 0x000002298513CAC8>}\n"
     ]
    }
   ],
   "source": [
    "try:\n",
    "    # try get back the dsl.command_component defined component\n",
    "    prep = ml_client.components.get(name=\"train_image_classification_keras\", version=\"1\")\n",
    "except:\n",
    "    # if not exists, register component using following code\n",
    "    prep = ml_client.components.create_or_update(prep)\n",
    "\n",
    "# list all components registered in workspace\n",
    "for c in ml_client.components.list():\n",
    "    print(c)"
   ]
  },
  {
   "cell_type": "markdown",
   "metadata": {},
   "source": [
    "# Next Steps\n",
    "You can see further examples of running a pipeline job [here](/sdk/jobs/pipelines/)"
   ]
  }
 ],
 "metadata": {
  "description": {
   "description": "Create pipeline to train cnn image classification model with keras"
  },
  "interpreter": {
   "hash": "76e3f79dcda5ecc398e236cf994607053e7cf1e1f5da39c151cd830d8fe26160"
  },
  "kernelspec": {
   "display_name": "Python 3.8.0 ('chenyinpy38_v2_feb')",
   "language": "python",
   "name": "python3"
  },
  "language_info": {
   "codemirror_mode": {
    "name": "ipython",
    "version": 3
   },
   "file_extension": ".py",
   "mimetype": "text/x-python",
   "name": "python",
   "nbconvert_exporter": "python",
   "pygments_lexer": "ipython3",
   "version": "3.7.11"
  },
  "orig_nbformat": 4
 },
 "nbformat": 4,
 "nbformat_minor": 2
}
