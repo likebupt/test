{
 "cells": [
  {
   "source": [
    "## Real-Time Endpoint Automatic Redeployment Tool\n",
    "Please note that this tool is not officially published, but to provide a workaround for user to update their endpoint deployed in Designer without too many manual steps. We do not have SLA commitment for this tool.\n",
    "\n",
    "Following are limitations of this tool:\n",
    "- Training pipeline can only contain 1 trained model\n",
    "- Only support model parameters update and training data soruce update\n",
    "- Not support data preprocessing and postprocessing update \n",
    "- Not support datastore enabled WorkspaceSystemAssignedIdentity "
   ],
   "cell_type": "markdown",
   "metadata": {}
  },
  {
   "source": [
    "# Install azureml-designer-model-tools.\n",
    "# For test version, please use\n",
    "!pip install azureml-designer-model-tools==0.0.2 --user\n",
    "# Or under administrator role, type directly\n",
    "# pip install azureml-designer-model-tools==0.0.2"
   ],
   "cell_type": "code",
   "metadata": {},
   "execution_count": null,
   "outputs": []
  },
  {
   "source": [
    "## Use python script to update endpoint\n",
    "\n",
    "Following code shows how to update endpoint in python code."
   ],
   "cell_type": "markdown",
   "metadata": {}
  },
  {
   "cell_type": "code",
   "execution_count": null,
   "id": "23f0d15b",
   "metadata": {},
   "outputs": [],
   "source": [
    "from azureml.designer.tools.model.entry_function import model_tools, model_tools_entry"
   ]
  },
  {
   "cell_type": "code",
   "execution_count": null,
   "id": "fbcb416e",
   "metadata": {},
   "outputs": [],
   "source": [
    "# connect to the desired workspace\n",
    "subscription_id = \"sub_id\"\n",
    "resource_group = \"resource_group_name\"\n",
    "workspace_name = \"workspace_name\"\n",
    "\n",
    "from azureml.core import Workspace\n",
    "from azureml.core.authentication import InteractiveLoginAuthentication\n",
    "ws = Workspace(subscription_id=subscription_id,\n",
    "               resource_group=resource_group,\n",
    "               workspace_name=workspace_name,\n",
    "              auth=InteractiveLoginAuthentication())\n"
   ]
  },
  {
   "cell_type": "code",
   "execution_count": null,
   "id": "2c1a43c4",
   "metadata": {},
   "outputs": [],
   "source": [
    "print(ws)"
   ]
  },
  {
   "cell_type": "code",
   "execution_count": null,
   "id": "ed25bd03",
   "metadata": {},
   "outputs": [],
   "source": [
    "\n",
    "from azureml.core.webservice import Webservice, AksWebservice\n",
    "#webs = Webservice.list(ws)\n",
    "\n",
    "#print(webs)\n"
   ]
  },
  {
   "cell_type": "code",
   "execution_count": null,
   "id": "76355139",
   "metadata": {},
   "outputs": [],
   "source": [
    "\n",
    "# specify the endpoint which needs to be updated\n",
    "service_endpoint_name = 'endpoint_name'\n",
    "update_description = 'full redeployment workflow cli test'\n",
    "\n",
    "# training pipeline run id\n",
    "# Note this should be run id not draft id\n",
    "# After you modify your training pipeline, please rerun it and then use the run id\n",
    "pipeline_run_id = 'df414676-2437-4e08-a53f-9a23a3459a68'\n",
    "\n",
    "# update endpoint and return the state\n",
    "state = model_tools(ws, pipeline_run_id, service_endpoint_name, update_description=update_description)\n",
    "\n",
    "print(state)"
   ]
  },
  {
   "source": [
    "## Use CLI to update endpoint"
   ],
   "cell_type": "markdown",
   "metadata": {}
  },
  {
   "cell_type": "code",
   "execution_count": null,
   "metadata": {},
   "outputs": [],
   "source": [
    "# You can also use command to update endpoint\n",
    "!redeploy -sub {your subscription id} -r {your resource group name} -w {your workspace name} -s {your real-time endpoint name} -p {your pipeline run id} -d {[Optional]your description}"
   ]
  }
 ],
 "metadata": {
  "kernelspec": {
   "name": "python3",
   "display_name": "Python 3.7.9 64-bit (conda)"
  },
  "language_info": {
   "codemirror_mode": {
    "name": "ipython",
    "version": 3
   },
   "file_extension": ".py",
   "mimetype": "text/x-python",
   "name": "python",
   "nbconvert_exporter": "python",
   "pygments_lexer": "ipython3",
   "version": "3.7.9"
  },
  "interpreter": {
   "hash": "ce708d9b5ddc05a97a3897cfebe40600ffa80a3ed65317af68a93af769a38b74"
  }
 },
 "nbformat": 4,
 "nbformat_minor": 5
}