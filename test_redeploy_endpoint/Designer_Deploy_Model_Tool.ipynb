{
 "cells": [
  {
   "cell_type": "code",
   "execution_count": 1,
   "id": "23f0d15b",
   "metadata": {},
   "outputs": [
    {
     "name": "stderr",
     "output_type": "stream",
     "text": [
      "Failure while loading azureml_run_type_providers. Failed to load entrypoint automl = azureml.train.automl.run:AutoMLRun._from_run_dto with exception (azureml-dataset-runtime 1.31.0 (d:\\anaconda3\\envs\\designer_core\\lib\\site-packages), Requirement.parse('azureml-dataset-runtime~=1.12.0')).\n"
     ]
    }
   ],
   "source": [
    "from azureml.designer.tools.model.entry_function import model_tools, model_tools_entry"
   ]
  },
  {
   "cell_type": "code",
   "execution_count": 3,
   "id": "1c3d3f13",
   "metadata": {},
   "outputs": [
    {
     "name": "stdout",
     "output_type": "stream",
     "text": [
      "abc\n"
     ]
    }
   ],
   "source": [
    "print('abc')"
   ]
  },
  {
   "cell_type": "code",
   "execution_count": 2,
   "id": "fbcb416e",
   "metadata": {},
   "outputs": [
    {
     "name": "stdout",
     "output_type": "stream",
     "text": [
      "2021-06-24 15:21:13,061 root                 WARNING    Warning: Falling back to use azure cli login credentials.\n",
      "If you run your code in unattended mode, i.e., where you can't give a user input, then we recommend to use ServicePrincipalAuthentication or MsiAuthentication.\n",
      "Please refer to aka.ms/aml-notebook-auth for different authentication mechanisms in azureml-sdk.\n"
     ]
    }
   ],
   "source": [
    "# connect to the desired workspace\n",
    "subscription_id = \"ee85ed72-2b26-48f6-a0e8-cb5bcf98fbd9\"\n",
    "resource_group = \"keli19-aml\"\n",
    "workspace_name = \"keli19-eastus\"\n",
    "\n",
    "# subscription_id = \"74eccef0-4b8d-4f83-b5f9-fa100d155b22\"\n",
    "# resource_group = \"keli19-aml\"\n",
    "# workspace_name = \"StudioV2DRI_EUS\"\n",
    "\n",
    "from azureml.core import Workspace\n",
    "from azureml.core.authentication import InteractiveLoginAuthentication\n",
    "ws = Workspace(subscription_id=subscription_id,\n",
    "               resource_group=resource_group,\n",
    "               workspace_name=workspace_name,\n",
    "              auth=InteractiveLoginAuthentication())\n"
   ]
  },
  {
   "cell_type": "code",
   "execution_count": 5,
   "id": "2c1a43c4",
   "metadata": {},
   "outputs": [
    {
     "name": "stdout",
     "output_type": "stream",
     "text": [
      "Workspace.create(name='StudioV2DRI_EUS', subscription_id='74eccef0-4b8d-4f83-b5f9-fa100d155b22', resource_group='AmlStudioV2DRI')\n"
     ]
    }
   ],
   "source": [
    "print(ws)"
   ]
  },
  {
   "cell_type": "code",
   "execution_count": 3,
   "id": "ed25bd03",
   "metadata": {},
   "outputs": [],
   "source": [
    "\n",
    "from azureml.core.webservice import Webservice, AksWebservice\n",
    "#webs = Webservice.list(ws)\n",
    "\n",
    "#print(webs)\n"
   ]
  },
  {
   "cell_type": "code",
   "execution_count": 7,
   "id": "76355139",
   "metadata": {},
   "outputs": [
    {
     "name": "stdout",
     "output_type": "stream",
     "text": [
      "2021-06-24 17:01:56,941 studio.azureml.designer.tools.model.entry_function INFO       Redeploy service sample1-deploy with pipelineRunId 039efa08-1c63-4be1-89e2-a8c205f29cb5 operation created.\n",
      "Operation request tracking id: d3170a68-d4ca-11eb-8c1a-6c2b59efefd2.\n",
      "Workspace information:\n",
      "name:keli19-eastus, subscription_id:ee85ed72-2b26-48f6-a0e8-cb5bcf98fbd9, resource group:keli19-aml.\n",
      "2021-06-24 17:01:59,306 studio.azureml.designer.tools.model.service_operation_processor INFO       Succeed to get the given service's return body json.\n",
      "Operation request tracking id: d3170a68-d4ca-11eb-8c1a-6c2b59efefd2.\n",
      "Return service endpoint body: b'{\\n  \"value\": [\\n    {\\n      \"containerResourceRequirements\": {\\n        \"cpu\": 0.1,\\n        \"cpuLimit\": null,\\n        \"memoryInGB\": 0.5,\\n        \"memoryInGBLimit\": null,\\n        \"gpuEnabled\": null,\\n        \"gpu\": null,\\n        \"fpga\": null\\n      },\\n      \"imageId\": null,\\n      \"imageDigest\": null,\\n      \"scoringUri\": \"http://36d41ea0-83a8-4aa4-8003-2a6baaa73584.eastus.azurecontainer.io/score\",\\n      \"location\": \"eastus\",\\n      \"authEnabled\": true,\\n      \"sslEnabled\": false,\\n      \"appInsightsEnabled\": false,\\n      \"dataCollection\": {\\n        \"eventHubEnabled\": false,\\n        \"storageEnabled\": false\\n      },\\n      \"sslCertificate\": \"\",\\n      \"sslKey\": \"\",\\n      \"cname\": null,\\n      \"publicIp\": \"52.154.70.9\",\\n      \"publicFqdn\": \"36d41ea0-83a8-4aa4-8003-2a6baaa73584.eastus.azurecontainer.io\",\\n      \"swaggerUri\": \"http://36d41ea0-83a8-4aa4-8003-2a6baaa73584.eastus.azurecontainer.io/swagger.json\",\\n      \"modelConfigMap\": null,\\n      \"environment\": {\\n        \"name\": \"Experiment sample1-regression Environment\",\\n        \"version\": \"Autosave_2021-06-24T07:57:22Z_f0efe679\",\\n        \"python\": {\\n          \"interpreterPath\": \"python\",\\n          \"userManagedDependencies\": false,\\n          \"condaDependencies\": {\\n            \"channels\": [\\n              \"conda-forge\"\\n            ],\\n            \"dependencies\": [\\n              \"pip=20.2\",\\n              \"python=3.6.8\",\\n              \"scikit-surprise=1.0.6\",\\n              {\\n                \"pip\": [\\n                  \"azureml-designer-classic-modules==0.0.154\",\\n                  \"https://github.com/explosion/spacy-models/releases/download/en_core_web_sm-2.1.0/en_core_web_sm-2.1.0.tar.gz#egg=en_core_web_sm\",\\n                  \"spacy==2.1.7\"\\n                ]\\n              }\\n            ],\\n            \"name\": \"azureml_2439cbd4ba441d4c922a33cfeff2215c\"\\n          },\\n          \"baseCondaEnvironment\": null\\n        },\\n        \"environmentVariables\": {\\n          \"AZUREML_PARAMETER_Node_Count\": \"1\",\\n          \"AZUREML_PARAMETER_Append_score_columns_to_output\": \"True\"\\n        },\\n        \"docker\": {\\n          \"baseImage\": \"mcr.microsoft.com/azureml/openmpi3.1.2-ubuntu18.04:20210301.v1\",\\n          \"platform\": {\\n            \"os\": \"Linux\",\\n            \"architecture\": \"amd64\"\\n          },\\n          \"baseDockerfile\": null,\\n          \"baseImageRegistry\": {\\n            \"address\": null,\\n            \"username\": null,\\n            \"password\": null\\n          },\\n          \"enabled\": true\\n        },\\n        \"spark\": {\\n          \"repositories\": [],\\n          \"packages\": [],\\n          \"precachePackages\": false\\n        },\\n        \"inferencingStackVersion\": null\\n      },\\n      \"environmentImageRequest\": {\\n        \"driverProgram\": \"driver.py\",\\n        \"assets\": [\\n          {\\n            \"id\": \"driver.py\",\\n            \"mimeType\": \"application/x-python\",\\n            \"url\": \"aml://artifact/LocalUpload/bb2973fd-3648-467f-83b5-13ebbb4dcef4/driver.py\",\\n            \"unpack\": false\\n          },\\n          {\\n            \"id\": \"configuration.json\",\\n            \"mimeType\": \"application/x-python\",\\n            \"url\": \"aml://artifact/LocalUpload/bb2973fd-3648-467f-83b5-13ebbb4dcef4/configuration.json\",\\n            \"unpack\": false\\n          },\\n          {\\n            \"id\": \"Score.py\",\\n            \"mimeType\": \"application/x-python\",\\n            \"url\": \"aml://artifact/LocalUpload/bb2973fd-3648-467f-83b5-13ebbb4dcef4/Score.py\",\\n            \"unpack\": false\\n          },\\n          {\\n            \"id\": \"studio.swagger.json\",\\n            \"mimeType\": \"application/x-python\",\\n            \"url\": \"aml://artifact/LocalUpload/bb2973fd-3648-467f-83b5-13ebbb4dcef4/studio.swagger.json\",\\n            \"unpack\": false\\n          }\\n        ],\\n        \"modelIds\": [\\n          \"amlstudio-sample1-deploy:1\"\\n        ],\\n        \"environment\": {\\n          \"name\": \"Experiment sample1-regression Environment\",\\n          \"version\": \"Autosave_2021-06-24T07:57:22Z_f0efe679\",\\n          \"python\": {\\n            \"interpreterPath\": \"python\",\\n            \"userManagedDependencies\": false,\\n            \"condaDependencies\": {\\n              \"channels\": [\\n                \"conda-forge\"\\n              ],\\n              \"dependencies\": [\\n                \"pip=20.2\",\\n                \"python=3.6.8\",\\n                \"scikit-surprise=1.0.6\",\\n                {\\n                  \"pip\": [\\n                    \"azureml-designer-classic-modules==0.0.154\",\\n                    \"https://github.com/explosion/spacy-models/releases/download/en_core_web_sm-2.1.0/en_core_web_sm-2.1.0.tar.gz#egg=en_core_web_sm\",\\n                    \"spacy==2.1.7\"\\n                  ]\\n                }\\n              ],\\n              \"name\": \"azureml_2439cbd4ba441d4c922a33cfeff2215c\"\\n            },\\n            \"baseCondaEnvironment\": null\\n          },\\n          \"environmentVariables\": {\\n            \"AZUREML_PARAMETER_Node_Count\": \"1\",\\n            \"AZUREML_PARAMETER_Append_score_columns_to_output\": \"True\"\\n          },\\n          \"docker\": {\\n            \"baseImage\": \"mcr.microsoft.com/azureml/openmpi3.1.2-ubuntu18.04:20210301.v1\",\\n            \"platform\": {\\n              \"os\": \"Linux\",\\n              \"architecture\": \"amd64\"\\n            },\\n            \"baseDockerfile\": null,\\n            \"baseImageRegistry\": {\\n              \"address\": null,\\n              \"username\": null,\\n              \"password\": null\\n            },\\n            \"enabled\": true\\n          },\\n          \"spark\": {\\n            \"repositories\": [],\\n            \"packages\": [],\\n            \"precachePackages\": false\\n          },\\n          \"inferencingStackVersion\": null\\n        }\\n      },\\n      \"vnetConfiguration\": null,\\n      \"encryptionProperties\": null,\\n      \"id\": \"sample1-deploy\",\\n      \"name\": \"sample1-deploy\",\\n      \"description\": \"\",\\n      \"tags\": null,\\n      \"kvTags\": {\\n        \"CreatedByAMLStudio\": \"true\"\\n      },\\n      \"properties\": {\\n        \"LinkedPipelineDraftId\": \"4b03bbb6-9b3d-4d78-a34c-2bc6b6290e0b\",\\n        \"LinkedPipelineRunId\": \"1de3d450-d4ed-46f9-a73d-c78f8af5ff0e\",\\n        \"hasInferenceSchema\": \"True\",\\n        \"hasHttps\": \"False\"\\n      },\\n      \"operationId\": \"aa4a9563-ad55-4cb6-af2d-5c3f7afea790\",\\n      \"createdTime\": \"2021-06-24T08:06:33.5204803Z\",\\n      \"updatedTime\": \"2021-06-24T08:06:33.5204803Z\",\\n      \"computeType\": \"ACI\",\\n      \"createdBy\": {\\n        \"userObjectId\": \"c17d3128-298d-4dd3-9894-293c7d869bfe\",\\n        \"userPuId\": \"100320005073246B\",\\n        \"userIdp\": null,\\n        \"userAltSecId\": null,\\n        \"userIss\": \"https://sts.windows.net/72f988bf-86f1-41af-91ab-2d7cd011db47/\",\\n        \"userTenantId\": \"72f988bf-86f1-41af-91ab-2d7cd011db47\",\\n        \"userName\": \"Blanca Li\"\\n      },\\n      \"endpointName\": null\\n    }\\n  ]\\n}'.\n",
      "2021-06-24 17:02:05,563 studio.azureml.designer.tools.model.model_operation_processor INFO       Success to download the desired Model! Local download path: ./d3170a68-d4ca-11eb-8c1a-6c2b59efefd2\\ModelsRepo\\amlstudio-sample1-deploy.zip.\n",
      "Downloaded model id: amlstudio-sample1-deploy:1.\n",
      "2021-06-24 17:02:05,564 studio.azureml.designer.tools.model.model_operation_processor INFO       Succeed to download the original model: amlstudio-sample1-deploy:1.local download dir: ./d3170a68-d4ca-11eb-8c1a-6c2b59efefd2\\ModelsRepo.\n",
      "Operation request tracking id: d3170a68-d4ca-11eb-8c1a-6c2b59efefd2.\n",
      "2021-06-24 17:02:05,585 studio.azureml.designer.tools.model.model_operation_processor INFO       Succeed to extract the downloaded model zip file. Local downloaded zip model dir: ./d3170a68-d4ca-11eb-8c1a-6c2b59efefd2\\ModelsRepo, local extracted model file dir: ./d3170a68-d4ca-11eb-8c1a-6c2b59efefd2\\ModelsRepoExtracted\\amlstudio-sample1-deploy.\n",
      "Operation request tracking id: d3170a68-d4ca-11eb-8c1a-6c2b59efefd2.\n",
      "2021-06-24 17:02:05,599 studio.azureml.designer.tools.model.model_operation_processor INFO       Succeed to get the original model's trained model dir relative path: Resources/1/.\n",
      "Operation request tracking id: d3170a68-d4ca-11eb-8c1a-6c2b59efefd2.\n",
      "2021-06-24 17:02:10,228 studio.azureml.designer.tools.model.azure_blob_helper INFO       Success to download the required blob files from blob!\n",
      "Local save dir path: ./d3170a68-d4ca-11eb-8c1a-6c2b59efefd2\\BlobDownload\\amlstudio-sample1-deploy.\n",
      "Download azure blob container name: azureml, files list: ['azureml/26f2fd0e-381a-43ab-a05e-544f9e04f7e9/Trained_model/_meta.yaml', 'azureml/26f2fd0e-381a-43ab-a05e-544f9e04f7e9/Trained_model/_samples.json', 'azureml/26f2fd0e-381a-43ab-a05e-544f9e04f7e9/Trained_model/_schema.json', 'azureml/26f2fd0e-381a-43ab-a05e-544f9e04f7e9/Trained_model/conda_env.yaml', 'azureml/26f2fd0e-381a-43ab-a05e-544f9e04f7e9/Trained_model/data.ilearner', 'azureml/26f2fd0e-381a-43ab-a05e-544f9e04f7e9/Trained_model/model_spec.yaml', 'azureml/26f2fd0e-381a-43ab-a05e-544f9e04f7e9/Trained_model/score.py'].\n",
      "2021-06-24 17:02:10,229 studio.azureml.designer.tools.model.model_operation_processor INFO       Succeed to download the new trained model dir from azure blob, container name: azureml,blob file name list: ['azureml/26f2fd0e-381a-43ab-a05e-544f9e04f7e9/Trained_model/_meta.yaml', 'azureml/26f2fd0e-381a-43ab-a05e-544f9e04f7e9/Trained_model/_samples.json', 'azureml/26f2fd0e-381a-43ab-a05e-544f9e04f7e9/Trained_model/_schema.json', 'azureml/26f2fd0e-381a-43ab-a05e-544f9e04f7e9/Trained_model/conda_env.yaml', 'azureml/26f2fd0e-381a-43ab-a05e-544f9e04f7e9/Trained_model/data.ilearner', 'azureml/26f2fd0e-381a-43ab-a05e-544f9e04f7e9/Trained_model/model_spec.yaml', 'azureml/26f2fd0e-381a-43ab-a05e-544f9e04f7e9/Trained_model/score.py'].\n",
      "Local download path list: ['./d3170a68-d4ca-11eb-8c1a-6c2b59efefd2\\\\BlobDownload\\\\amlstudio-sample1-deploy\\\\azureml/26f2fd0e-381a-43ab-a05e-544f9e04f7e9/Trained_model/_meta.yaml', './d3170a68-d4ca-11eb-8c1a-6c2b59efefd2\\\\BlobDownload\\\\amlstudio-sample1-deploy\\\\azureml/26f2fd0e-381a-43ab-a05e-544f9e04f7e9/Trained_model/_samples.json', './d3170a68-d4ca-11eb-8c1a-6c2b59efefd2\\\\BlobDownload\\\\amlstudio-sample1-deploy\\\\azureml/26f2fd0e-381a-43ab-a05e-544f9e04f7e9/Trained_model/_schema.json', './d3170a68-d4ca-11eb-8c1a-6c2b59efefd2\\\\BlobDownload\\\\amlstudio-sample1-deploy\\\\azureml/26f2fd0e-381a-43ab-a05e-544f9e04f7e9/Trained_model/conda_env.yaml', './d3170a68-d4ca-11eb-8c1a-6c2b59efefd2\\\\BlobDownload\\\\amlstudio-sample1-deploy\\\\azureml/26f2fd0e-381a-43ab-a05e-544f9e04f7e9/Trained_model/data.ilearner', './d3170a68-d4ca-11eb-8c1a-6c2b59efefd2\\\\BlobDownload\\\\amlstudio-sample1-deploy\\\\azureml/26f2fd0e-381a-43ab-a05e-544f9e04f7e9/Trained_model/model_spec.yaml', './d3170a68-d4ca-11eb-8c1a-6c2b59efefd2\\\\BlobDownload\\\\amlstudio-sample1-deploy\\\\azureml/26f2fd0e-381a-43ab-a05e-544f9e04f7e9/Trained_model/score.py'].\n",
      "Operation request tracking id: d3170a68-d4ca-11eb-8c1a-6c2b59efefd2.\n",
      "2021-06-24 17:02:10,309 studio.azureml.designer.tools.model.model_operation_processor INFO       Success to replace the trained model dir by the downloaded model dir from Azure blob.\n",
      "Operation request tracking id: d3170a68-d4ca-11eb-8c1a-6c2b59efefd2.\n",
      "2021-06-24 17:02:10,359 studio.azureml.designer.tools.model.model_operation_processor INFO       Success to zip the local updated model! Updated model local path: ./d3170a68-d4ca-11eb-8c1a-6c2b59efefd2\\ModelsReZip\\amlstudio-sample1-deploy.\n",
      "Operation request tracking id: d3170a68-d4ca-11eb-8c1a-6c2b59efefd2.\n",
      "Registering model amlstudio-sample1-deploy\n",
      "2021-06-24 17:02:15,491 studio.azureml.designer.tools.model.model_operation_processor INFO       Success to register the local updated model!\n",
      "Original model id: amlstudio-sample1-deploy:1.\n",
      "Re-register model id: amlstudio-sample1-deploy:2, local file path: ./d3170a68-d4ca-11eb-8c1a-6c2b59efefd2\\ModelsReZip\\amlstudio-sample1-deploy.\n",
      "2021-06-24 17:02:15,492 studio.azureml.designer.tools.model.model_operation_processor INFO       Succeed to register the local updated model, updated model id: amlstudio-sample1-deploy:2.\n",
      "Operation request tracking id: d3170a68-d4ca-11eb-8c1a-6c2b59efefd2.\n",
      "2021-06-24 17:02:15,492 studio.azureml.designer.tools.model.model_operation_processor INFO       Succeed to register the locally updated model by given pipeline run id: 039efa08-1c63-4be1-89e2-a8c205f29cb5.\n",
      "Operation request tracking id: d3170a68-d4ca-11eb-8c1a-6c2b59efefd2.\n",
      "2021-06-24 17:02:18,472 studio.azureml.designer.tools.model.service_operation_processor INFO       Succeed to patch the service update request to the backend, patch request return operation id: 908bd344-d038-4d0b-9199-7c4d6552b966.\n",
      "Operation request tracking id: d3170a68-d4ca-11eb-8c1a-6c2b59efefd2.\n",
      "2021-06-24 17:04:27,419 studio.azureml.designer.tools.model.service_operation_processor INFO       Finish the service redeployment operation, return redeployment state: Succeeded.\n",
      "Return redeployment message: {\n",
      "  \"id\": \"908bd344-d038-4d0b-9199-7c4d6552b966\",\n",
      "  \"operationType\": \"AciService\",\n",
      "  \"state\": \"Succeeded\",\n",
      "  \"createdTime\": \"2021-06-24T09:02:18.1232749Z\",\n",
      "  \"endTime\": \"2021-06-24T09:04:23.3608017Z\",\n",
      "  \"resourceLocation\": \"/api/subscriptions/ee85ed72-2b26-48f6-a0e8-cb5bcf98fbd9/resourceGroups/keli19-aml/providers/Microsoft.MachineLearningServices/workspaces/keli19-eastus/services/sample1-deploy\",\n",
      "  \"operationLog\": \"\",\n",
      "  \"parentRequestId\": \"d3170a68-d4ca-11eb-8c1a-6c2b59efefd2\",\n",
      "  \"streamingOperationLog\": \"20210624090218|Creating Container Registry if not exists.#20210624090218|Registering the environment.#20210624090218|Use the existing image.#20210624090218|Generating deployment configuration.#20210624090220|Submitting deployment to compute.#20210624090223|Checking the status of deployment sample1-deploy.#20210624090233|Checking the status of inference endpoint sample1-deploy.\"\n",
      "}.\n",
      "Operation request tracking id: d3170a68-d4ca-11eb-8c1a-6c2b59efefd2.\n",
      "2021-06-24 17:04:27,420 studio.azureml.designer.tools.model.service_operation_processor INFO       Finish the service update operation, final operation state: Succeeded.\n",
      "Operation request tracking id: d3170a68-d4ca-11eb-8c1a-6c2b59efefd2.\n",
      "Return info: {\n",
      "  \"id\": \"908bd344-d038-4d0b-9199-7c4d6552b966\",\n",
      "  \"operationType\": \"AciService\",\n",
      "  \"state\": \"Succeeded\",\n",
      "  \"createdTime\": \"2021-06-24T09:02:18.1232749Z\",\n",
      "  \"endTime\": \"2021-06-24T09:04:23.3608017Z\",\n",
      "  \"resourceLocation\": \"/api/subscriptions/ee85ed72-2b26-48f6-a0e8-cb5bcf98fbd9/resourceGroups/keli19-aml/providers/Microsoft.MachineLearningServices/workspaces/keli19-eastus/services/sample1-deploy\",\n",
      "  \"operationLog\": \"\",\n",
      "  \"parentRequestId\": \"d3170a68-d4ca-11eb-8c1a-6c2b59efefd2\",\n",
      "  \"streamingOperationLog\": \"20210624090218|Creating Container Registry if not exists.#20210624090218|Registering the environment.#20210624090218|Use the existing image.#20210624090218|Generating deployment configuration.#20210624090220|Submitting deployment to compute.#20210624090223|Checking the status of deployment sample1-deploy.#20210624090233|Checking the status of inference endpoint sample1-deploy.\"\n",
      "}.\n",
      "2021-06-24 17:04:27,420 studio.azureml.designer.tools.model.entry_function INFO       Finish redeploy service sample1-deploy with pipelineRunId 039efa08-1c63-4be1-89e2-a8c205f29cb5 operation.\n",
      "Final redeployment state: Succeeded.\n",
      "Operation request tracking id: d3170a68-d4ca-11eb-8c1a-6c2b59efefd2.\n",
      "Succeeded\n"
     ]
    }
   ],
   "source": [
    "\n",
    "service_endpoint_name = 'sample1-deploy'\n",
    "update_description = 'full redeployment workflow cli test'\n",
    "\n",
    "# training pipeline \n",
    "pipeline_run_id = '039efa08-1c63-4be1-89e2-a8c205f29cb5'\n",
    "\n",
    "state = model_tools(ws, pipeline_run_id, service_endpoint_name, update_description=update_description)\n",
    "\n",
    "print(state)"
   ]
  },
  {
   "cell_type": "code",
   "execution_count": null,
   "id": "b257af50",
   "metadata": {},
   "outputs": [],
   "source": []
  }
 ],
 "metadata": {
  "interpreter": {
   "hash": "ce708d9b5ddc05a97a3897cfebe40600ffa80a3ed65317af68a93af769a38b74"
  },
  "kernelspec": {
   "display_name": "Python 3.7.9 64-bit (conda)",
   "name": "python3"
  },
  "language_info": {
   "codemirror_mode": {
    "name": "ipython",
    "version": 3
   },
   "file_extension": ".py",
   "mimetype": "text/x-python",
   "name": "python",
   "nbconvert_exporter": "python",
   "pygments_lexer": "ipython3",
   "version": "3.7.9"
  }
 },
 "nbformat": 4,
 "nbformat_minor": 5
}
